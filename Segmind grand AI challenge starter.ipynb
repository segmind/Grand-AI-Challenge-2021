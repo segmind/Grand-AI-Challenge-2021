{
 "cells": [
  {
   "cell_type": "markdown",
   "metadata": {},
   "source": [
    "## Segmind 2021 Grand AI Challenge ##"
   ]
  },
  {
   "cell_type": "markdown",
   "metadata": {},
   "source": [
    "### Download the dataset ###"
   ]
  },
  {
   "cell_type": "code",
   "execution_count": 2,
   "metadata": {},
   "outputs": [
    {
     "name": "stdout",
     "output_type": "stream",
     "text": [
      "--2021-04-12 05:32:21--  https://dockship-public-assets.s3.ap-south-1.amazonaws.com/segmind_grand_ai_challenge_2021-dataset.zip\n",
      "Resolving dockship-public-assets.s3.ap-south-1.amazonaws.com (dockship-public-assets.s3.ap-south-1.amazonaws.com)... 52.219.64.123\n",
      "Connecting to dockship-public-assets.s3.ap-south-1.amazonaws.com (dockship-public-assets.s3.ap-south-1.amazonaws.com)|52.219.64.123|:443... connected.\n",
      "HTTP request sent, awaiting response... 200 OK\n",
      "Length: 6491390 (6.2M) [application/zip]\n",
      "Saving to: ‘segmind_grand_ai_challenge_2021-dataset.zip’\n",
      "\n",
      "segmind_grand_ai_ch 100%[===================>]   6.19M  3.69MB/s    in 1.7s    \n",
      "\n",
      "2021-04-12 05:32:24 (3.69 MB/s) - ‘segmind_grand_ai_challenge_2021-dataset.zip’ saved [6491390/6491390]\n",
      "\n"
     ]
    }
   ],
   "source": [
    "!wget https://dockship-public-assets.s3.ap-south-1.amazonaws.com/segmind_grand_ai_challenge_2021-dataset.zip"
   ]
  },
  {
   "cell_type": "markdown",
   "metadata": {},
   "source": [
    "### Extract the dataset ###"
   ]
  },
  {
   "cell_type": "code",
   "execution_count": 8,
   "metadata": {},
   "outputs": [],
   "source": [
    "import zipfile\n",
    "with zipfile.ZipFile(\"segmind_grand_ai_challenge_2021-dataset.zip\", 'r') as zip_ref:\n",
    "    zip_ref.extractall()"
   ]
  },
  {
   "cell_type": "code",
   "execution_count": null,
   "metadata": {},
   "outputs": [],
   "source": []
  }
 ],
 "metadata": {
  "kernelspec": {
   "display_name": "Python 3",
   "language": "python",
   "name": "python3"
  },
  "language_info": {
   "codemirror_mode": {
    "name": "ipython",
    "version": 3
   },
   "file_extension": ".py",
   "mimetype": "text/x-python",
   "name": "python",
   "nbconvert_exporter": "python",
   "pygments_lexer": "ipython3",
   "version": "3.7.4"
  }
 },
 "nbformat": 4,
 "nbformat_minor": 5
}
